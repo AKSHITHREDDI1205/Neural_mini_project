{
  "cells": [
    {
      "cell_type": "code",
      "execution_count": 2,
      "id": "85c7f917",
      "metadata": {
        "id": "85c7f917"
      },
      "outputs": [],
      "source": [
        "import tensorflow as tf\n",
        "from tensorflow.keras.datasets import mnist\n",
        "import numpy as np"
      ]
    },
    {
      "cell_type": "code",
      "execution_count": null,
      "id": "29751299",
      "metadata": {
        "id": "29751299"
      },
      "outputs": [],
      "source": [
        "# Set GPU device\n",
        "physical_devices = tf.config.list_physical_devices('GPU')\n",
        "tf.config.experimental.set_memory_growth(physical_devices[0], True)"
      ]
    },
    {
      "cell_type": "code",
      "execution_count": 1,
      "id": "f6691148",
      "metadata": {
        "colab": {
          "base_uri": "https://localhost:8080/",
          "height": 342
        },
        "id": "f6691148",
        "outputId": "02323720-ac06-4ba2-8ba0-f0947ccffc71"
      },
      "outputs": [
        {
          "output_type": "stream",
          "name": "stdout",
          "text": [
            "Mounted at /content/drive\n",
            "Read Completed for  /content/drive/My Drive/cicics-2017-dataset-new/Thursday-WorkingHours-Morning-WebAttacks.pcap_ISCX.csv\n"
          ]
        },
        {
          "output_type": "execute_result",
          "data": {
            "text/plain": [
              "    Destination Port   Flow Duration   Total Fwd Packets  \\\n",
              "0                389       113095465                  48   \n",
              "1                389       113473706                  68   \n",
              "2                  0       119945515                 150   \n",
              "3                443        60261928                   9   \n",
              "4                 53             269                   2   \n",
              "\n",
              "    Total Backward Packets  Total Length of Fwd Packets  \\\n",
              "0                       24                         9668   \n",
              "1                       40                        11364   \n",
              "2                        0                            0   \n",
              "3                        7                         2330   \n",
              "4                        2                          102   \n",
              "\n",
              "    Total Length of Bwd Packets   Fwd Packet Length Max  \\\n",
              "0                         10012                     403   \n",
              "1                         12718                     403   \n",
              "2                             0                       0   \n",
              "3                          4221                    1093   \n",
              "4                           322                      51   \n",
              "\n",
              "    Fwd Packet Length Min   Fwd Packet Length Mean   Fwd Packet Length Std  \\\n",
              "0                       0               201.416667              203.548293   \n",
              "1                       0               167.117647              171.919413   \n",
              "2                       0                 0.000000                0.000000   \n",
              "3                       0               258.888889              409.702161   \n",
              "4                      51                51.000000                0.000000   \n",
              "\n",
              "   ...   min_seg_size_forward  Active Mean    Active Std   Active Max  \\\n",
              "0  ...                     32   203985.500  5.758373e+05      1629110   \n",
              "1  ...                     32   178326.875  5.034269e+05      1424245   \n",
              "2  ...                      0  6909777.333  1.170000e+07     20400000   \n",
              "3  ...                     20        0.000  0.000000e+00            0   \n",
              "4  ...                     32        0.000  0.000000e+00            0   \n",
              "\n",
              "    Active Min   Idle Mean      Idle Std   Idle Max   Idle Min   Label  \n",
              "0          379  13800000.0  4.277541e+06   16500000    6737603  BENIGN  \n",
              "1          325  13800000.0  4.229413e+06   16500000    6945512  BENIGN  \n",
              "2            6  24400000.0  2.430000e+07   60100000    5702188  BENIGN  \n",
              "3            0         0.0  0.000000e+00          0          0  BENIGN  \n",
              "4            0         0.0  0.000000e+00          0          0  BENIGN  \n",
              "\n",
              "[5 rows x 79 columns]"
            ],
            "text/html": [
              "\n",
              "  <div id=\"df-e70e0440-8a86-4c04-ba2d-471c4542f53c\" class=\"colab-df-container\">\n",
              "    <div>\n",
              "<style scoped>\n",
              "    .dataframe tbody tr th:only-of-type {\n",
              "        vertical-align: middle;\n",
              "    }\n",
              "\n",
              "    .dataframe tbody tr th {\n",
              "        vertical-align: top;\n",
              "    }\n",
              "\n",
              "    .dataframe thead th {\n",
              "        text-align: right;\n",
              "    }\n",
              "</style>\n",
              "<table border=\"1\" class=\"dataframe\">\n",
              "  <thead>\n",
              "    <tr style=\"text-align: right;\">\n",
              "      <th></th>\n",
              "      <th>Destination Port</th>\n",
              "      <th>Flow Duration</th>\n",
              "      <th>Total Fwd Packets</th>\n",
              "      <th>Total Backward Packets</th>\n",
              "      <th>Total Length of Fwd Packets</th>\n",
              "      <th>Total Length of Bwd Packets</th>\n",
              "      <th>Fwd Packet Length Max</th>\n",
              "      <th>Fwd Packet Length Min</th>\n",
              "      <th>Fwd Packet Length Mean</th>\n",
              "      <th>Fwd Packet Length Std</th>\n",
              "      <th>...</th>\n",
              "      <th>min_seg_size_forward</th>\n",
              "      <th>Active Mean</th>\n",
              "      <th>Active Std</th>\n",
              "      <th>Active Max</th>\n",
              "      <th>Active Min</th>\n",
              "      <th>Idle Mean</th>\n",
              "      <th>Idle Std</th>\n",
              "      <th>Idle Max</th>\n",
              "      <th>Idle Min</th>\n",
              "      <th>Label</th>\n",
              "    </tr>\n",
              "  </thead>\n",
              "  <tbody>\n",
              "    <tr>\n",
              "      <th>0</th>\n",
              "      <td>389</td>\n",
              "      <td>113095465</td>\n",
              "      <td>48</td>\n",
              "      <td>24</td>\n",
              "      <td>9668</td>\n",
              "      <td>10012</td>\n",
              "      <td>403</td>\n",
              "      <td>0</td>\n",
              "      <td>201.416667</td>\n",
              "      <td>203.548293</td>\n",
              "      <td>...</td>\n",
              "      <td>32</td>\n",
              "      <td>203985.500</td>\n",
              "      <td>5.758373e+05</td>\n",
              "      <td>1629110</td>\n",
              "      <td>379</td>\n",
              "      <td>13800000.0</td>\n",
              "      <td>4.277541e+06</td>\n",
              "      <td>16500000</td>\n",
              "      <td>6737603</td>\n",
              "      <td>BENIGN</td>\n",
              "    </tr>\n",
              "    <tr>\n",
              "      <th>1</th>\n",
              "      <td>389</td>\n",
              "      <td>113473706</td>\n",
              "      <td>68</td>\n",
              "      <td>40</td>\n",
              "      <td>11364</td>\n",
              "      <td>12718</td>\n",
              "      <td>403</td>\n",
              "      <td>0</td>\n",
              "      <td>167.117647</td>\n",
              "      <td>171.919413</td>\n",
              "      <td>...</td>\n",
              "      <td>32</td>\n",
              "      <td>178326.875</td>\n",
              "      <td>5.034269e+05</td>\n",
              "      <td>1424245</td>\n",
              "      <td>325</td>\n",
              "      <td>13800000.0</td>\n",
              "      <td>4.229413e+06</td>\n",
              "      <td>16500000</td>\n",
              "      <td>6945512</td>\n",
              "      <td>BENIGN</td>\n",
              "    </tr>\n",
              "    <tr>\n",
              "      <th>2</th>\n",
              "      <td>0</td>\n",
              "      <td>119945515</td>\n",
              "      <td>150</td>\n",
              "      <td>0</td>\n",
              "      <td>0</td>\n",
              "      <td>0</td>\n",
              "      <td>0</td>\n",
              "      <td>0</td>\n",
              "      <td>0.000000</td>\n",
              "      <td>0.000000</td>\n",
              "      <td>...</td>\n",
              "      <td>0</td>\n",
              "      <td>6909777.333</td>\n",
              "      <td>1.170000e+07</td>\n",
              "      <td>20400000</td>\n",
              "      <td>6</td>\n",
              "      <td>24400000.0</td>\n",
              "      <td>2.430000e+07</td>\n",
              "      <td>60100000</td>\n",
              "      <td>5702188</td>\n",
              "      <td>BENIGN</td>\n",
              "    </tr>\n",
              "    <tr>\n",
              "      <th>3</th>\n",
              "      <td>443</td>\n",
              "      <td>60261928</td>\n",
              "      <td>9</td>\n",
              "      <td>7</td>\n",
              "      <td>2330</td>\n",
              "      <td>4221</td>\n",
              "      <td>1093</td>\n",
              "      <td>0</td>\n",
              "      <td>258.888889</td>\n",
              "      <td>409.702161</td>\n",
              "      <td>...</td>\n",
              "      <td>20</td>\n",
              "      <td>0.000</td>\n",
              "      <td>0.000000e+00</td>\n",
              "      <td>0</td>\n",
              "      <td>0</td>\n",
              "      <td>0.0</td>\n",
              "      <td>0.000000e+00</td>\n",
              "      <td>0</td>\n",
              "      <td>0</td>\n",
              "      <td>BENIGN</td>\n",
              "    </tr>\n",
              "    <tr>\n",
              "      <th>4</th>\n",
              "      <td>53</td>\n",
              "      <td>269</td>\n",
              "      <td>2</td>\n",
              "      <td>2</td>\n",
              "      <td>102</td>\n",
              "      <td>322</td>\n",
              "      <td>51</td>\n",
              "      <td>51</td>\n",
              "      <td>51.000000</td>\n",
              "      <td>0.000000</td>\n",
              "      <td>...</td>\n",
              "      <td>32</td>\n",
              "      <td>0.000</td>\n",
              "      <td>0.000000e+00</td>\n",
              "      <td>0</td>\n",
              "      <td>0</td>\n",
              "      <td>0.0</td>\n",
              "      <td>0.000000e+00</td>\n",
              "      <td>0</td>\n",
              "      <td>0</td>\n",
              "      <td>BENIGN</td>\n",
              "    </tr>\n",
              "  </tbody>\n",
              "</table>\n",
              "<p>5 rows × 79 columns</p>\n",
              "</div>\n",
              "    <div class=\"colab-df-buttons\">\n",
              "\n",
              "  <div class=\"colab-df-container\">\n",
              "    <button class=\"colab-df-convert\" onclick=\"convertToInteractive('df-e70e0440-8a86-4c04-ba2d-471c4542f53c')\"\n",
              "            title=\"Convert this dataframe to an interactive table.\"\n",
              "            style=\"display:none;\">\n",
              "\n",
              "  <svg xmlns=\"http://www.w3.org/2000/svg\" height=\"24px\" viewBox=\"0 -960 960 960\">\n",
              "    <path d=\"M120-120v-720h720v720H120Zm60-500h600v-160H180v160Zm220 220h160v-160H400v160Zm0 220h160v-160H400v160ZM180-400h160v-160H180v160Zm440 0h160v-160H620v160ZM180-180h160v-160H180v160Zm440 0h160v-160H620v160Z\"/>\n",
              "  </svg>\n",
              "    </button>\n",
              "\n",
              "  <style>\n",
              "    .colab-df-container {\n",
              "      display:flex;\n",
              "      gap: 12px;\n",
              "    }\n",
              "\n",
              "    .colab-df-convert {\n",
              "      background-color: #E8F0FE;\n",
              "      border: none;\n",
              "      border-radius: 50%;\n",
              "      cursor: pointer;\n",
              "      display: none;\n",
              "      fill: #1967D2;\n",
              "      height: 32px;\n",
              "      padding: 0 0 0 0;\n",
              "      width: 32px;\n",
              "    }\n",
              "\n",
              "    .colab-df-convert:hover {\n",
              "      background-color: #E2EBFA;\n",
              "      box-shadow: 0px 1px 2px rgba(60, 64, 67, 0.3), 0px 1px 3px 1px rgba(60, 64, 67, 0.15);\n",
              "      fill: #174EA6;\n",
              "    }\n",
              "\n",
              "    .colab-df-buttons div {\n",
              "      margin-bottom: 4px;\n",
              "    }\n",
              "\n",
              "    [theme=dark] .colab-df-convert {\n",
              "      background-color: #3B4455;\n",
              "      fill: #D2E3FC;\n",
              "    }\n",
              "\n",
              "    [theme=dark] .colab-df-convert:hover {\n",
              "      background-color: #434B5C;\n",
              "      box-shadow: 0px 1px 3px 1px rgba(0, 0, 0, 0.15);\n",
              "      filter: drop-shadow(0px 1px 2px rgba(0, 0, 0, 0.3));\n",
              "      fill: #FFFFFF;\n",
              "    }\n",
              "  </style>\n",
              "\n",
              "    <script>\n",
              "      const buttonEl =\n",
              "        document.querySelector('#df-e70e0440-8a86-4c04-ba2d-471c4542f53c button.colab-df-convert');\n",
              "      buttonEl.style.display =\n",
              "        google.colab.kernel.accessAllowed ? 'block' : 'none';\n",
              "\n",
              "      async function convertToInteractive(key) {\n",
              "        const element = document.querySelector('#df-e70e0440-8a86-4c04-ba2d-471c4542f53c');\n",
              "        const dataTable =\n",
              "          await google.colab.kernel.invokeFunction('convertToInteractive',\n",
              "                                                    [key], {});\n",
              "        if (!dataTable) return;\n",
              "\n",
              "        const docLinkHtml = 'Like what you see? Visit the ' +\n",
              "          '<a target=\"_blank\" href=https://colab.research.google.com/notebooks/data_table.ipynb>data table notebook</a>'\n",
              "          + ' to learn more about interactive tables.';\n",
              "        element.innerHTML = '';\n",
              "        dataTable['output_type'] = 'display_data';\n",
              "        await google.colab.output.renderOutput(dataTable, element);\n",
              "        const docLink = document.createElement('div');\n",
              "        docLink.innerHTML = docLinkHtml;\n",
              "        element.appendChild(docLink);\n",
              "      }\n",
              "    </script>\n",
              "  </div>\n",
              "\n",
              "\n",
              "<div id=\"df-59213433-75e9-495f-a6e7-a553bc5f6784\">\n",
              "  <button class=\"colab-df-quickchart\" onclick=\"quickchart('df-59213433-75e9-495f-a6e7-a553bc5f6784')\"\n",
              "            title=\"Suggest charts\"\n",
              "            style=\"display:none;\">\n",
              "\n",
              "<svg xmlns=\"http://www.w3.org/2000/svg\" height=\"24px\"viewBox=\"0 0 24 24\"\n",
              "     width=\"24px\">\n",
              "    <g>\n",
              "        <path d=\"M19 3H5c-1.1 0-2 .9-2 2v14c0 1.1.9 2 2 2h14c1.1 0 2-.9 2-2V5c0-1.1-.9-2-2-2zM9 17H7v-7h2v7zm4 0h-2V7h2v10zm4 0h-2v-4h2v4z\"/>\n",
              "    </g>\n",
              "</svg>\n",
              "  </button>\n",
              "\n",
              "<style>\n",
              "  .colab-df-quickchart {\n",
              "      --bg-color: #E8F0FE;\n",
              "      --fill-color: #1967D2;\n",
              "      --hover-bg-color: #E2EBFA;\n",
              "      --hover-fill-color: #174EA6;\n",
              "      --disabled-fill-color: #AAA;\n",
              "      --disabled-bg-color: #DDD;\n",
              "  }\n",
              "\n",
              "  [theme=dark] .colab-df-quickchart {\n",
              "      --bg-color: #3B4455;\n",
              "      --fill-color: #D2E3FC;\n",
              "      --hover-bg-color: #434B5C;\n",
              "      --hover-fill-color: #FFFFFF;\n",
              "      --disabled-bg-color: #3B4455;\n",
              "      --disabled-fill-color: #666;\n",
              "  }\n",
              "\n",
              "  .colab-df-quickchart {\n",
              "    background-color: var(--bg-color);\n",
              "    border: none;\n",
              "    border-radius: 50%;\n",
              "    cursor: pointer;\n",
              "    display: none;\n",
              "    fill: var(--fill-color);\n",
              "    height: 32px;\n",
              "    padding: 0;\n",
              "    width: 32px;\n",
              "  }\n",
              "\n",
              "  .colab-df-quickchart:hover {\n",
              "    background-color: var(--hover-bg-color);\n",
              "    box-shadow: 0 1px 2px rgba(60, 64, 67, 0.3), 0 1px 3px 1px rgba(60, 64, 67, 0.15);\n",
              "    fill: var(--button-hover-fill-color);\n",
              "  }\n",
              "\n",
              "  .colab-df-quickchart-complete:disabled,\n",
              "  .colab-df-quickchart-complete:disabled:hover {\n",
              "    background-color: var(--disabled-bg-color);\n",
              "    fill: var(--disabled-fill-color);\n",
              "    box-shadow: none;\n",
              "  }\n",
              "\n",
              "  .colab-df-spinner {\n",
              "    border: 2px solid var(--fill-color);\n",
              "    border-color: transparent;\n",
              "    border-bottom-color: var(--fill-color);\n",
              "    animation:\n",
              "      spin 1s steps(1) infinite;\n",
              "  }\n",
              "\n",
              "  @keyframes spin {\n",
              "    0% {\n",
              "      border-color: transparent;\n",
              "      border-bottom-color: var(--fill-color);\n",
              "      border-left-color: var(--fill-color);\n",
              "    }\n",
              "    20% {\n",
              "      border-color: transparent;\n",
              "      border-left-color: var(--fill-color);\n",
              "      border-top-color: var(--fill-color);\n",
              "    }\n",
              "    30% {\n",
              "      border-color: transparent;\n",
              "      border-left-color: var(--fill-color);\n",
              "      border-top-color: var(--fill-color);\n",
              "      border-right-color: var(--fill-color);\n",
              "    }\n",
              "    40% {\n",
              "      border-color: transparent;\n",
              "      border-right-color: var(--fill-color);\n",
              "      border-top-color: var(--fill-color);\n",
              "    }\n",
              "    60% {\n",
              "      border-color: transparent;\n",
              "      border-right-color: var(--fill-color);\n",
              "    }\n",
              "    80% {\n",
              "      border-color: transparent;\n",
              "      border-right-color: var(--fill-color);\n",
              "      border-bottom-color: var(--fill-color);\n",
              "    }\n",
              "    90% {\n",
              "      border-color: transparent;\n",
              "      border-bottom-color: var(--fill-color);\n",
              "    }\n",
              "  }\n",
              "</style>\n",
              "\n",
              "  <script>\n",
              "    async function quickchart(key) {\n",
              "      const quickchartButtonEl =\n",
              "        document.querySelector('#' + key + ' button');\n",
              "      quickchartButtonEl.disabled = true;  // To prevent multiple clicks.\n",
              "      quickchartButtonEl.classList.add('colab-df-spinner');\n",
              "      try {\n",
              "        const charts = await google.colab.kernel.invokeFunction(\n",
              "            'suggestCharts', [key], {});\n",
              "      } catch (error) {\n",
              "        console.error('Error during call to suggestCharts:', error);\n",
              "      }\n",
              "      quickchartButtonEl.classList.remove('colab-df-spinner');\n",
              "      quickchartButtonEl.classList.add('colab-df-quickchart-complete');\n",
              "    }\n",
              "    (() => {\n",
              "      let quickchartButtonEl =\n",
              "        document.querySelector('#df-59213433-75e9-495f-a6e7-a553bc5f6784 button');\n",
              "      quickchartButtonEl.style.display =\n",
              "        google.colab.kernel.accessAllowed ? 'block' : 'none';\n",
              "    })();\n",
              "  </script>\n",
              "</div>\n",
              "\n",
              "    </div>\n",
              "  </div>\n"
            ],
            "application/vnd.google.colaboratory.intrinsic+json": {
              "type": "dataframe",
              "variable_name": "df"
            }
          },
          "metadata": {},
          "execution_count": 1
        }
      ],
      "source": [
        "import pandas as pd\n",
        "import glob\n",
        "from google.colab import drive\n",
        "\n",
        "# Mount Google Drive\n",
        "drive.mount('/content/drive')\n",
        "\n",
        "# Set the path to the folder in your Google Drive where the CSV files are located\n",
        "path = '/content/drive/My Drive/cicics-2017-dataset-new'  #\n",
        "all_files = glob.glob(path + \"/*.csv\")\n",
        "\n",
        "li = []\n",
        "\n",
        "# Loop through each CSV file in the specified folder\n",
        "for filename in all_files:\n",
        "    df = pd.read_csv(filename, encoding='cp1252', index_col=None, header=0)\n",
        "    li.append(df)\n",
        "    print(\"Read Completed for \", filename)\n",
        "\n",
        "# Concatenate all DataFrames\n",
        "df = pd.concat(li, axis=0 , ignore_index=True)\n",
        "\n",
        "# Rename the column if needed\n",
        "df = df.rename(columns={' Label': 'Label'})\n",
        "\n",
        "# Display the first few rows of the concatenated DataFrame\n",
        "df.head()\n"
      ]
    },
    {
      "cell_type": "code",
      "execution_count": null,
      "id": "1803f478",
      "metadata": {
        "colab": {
          "base_uri": "https://localhost:8080/",
          "height": 586
        },
        "id": "1803f478",
        "outputId": "a68c5087-5922-4bd9-a86a-ab10b0aab3a0"
      },
      "outputs": [
        {
          "output_type": "execute_result",
          "data": {
            "text/plain": [
              "Label\n",
              "BENIGN                          2273097\n",
              "DoS Hulk                         231073\n",
              "PortScan                         158930\n",
              "DDoS                             128027\n",
              "DoS GoldenEye                     10293\n",
              "FTP-Patator                        7938\n",
              "SSH-Patator                        5897\n",
              "DoS slowloris                      5796\n",
              "DoS Slowhttptest                   5499\n",
              "Bot                                1966\n",
              "Web Attack ï¿½ Brute Force         1507\n",
              "Web Attack ï¿½ XSS                  652\n",
              "Infiltration                         36\n",
              "Web Attack ï¿½ Sql Injection         21\n",
              "Heartbleed                           11\n",
              "Name: count, dtype: int64"
            ],
            "text/html": [
              "<div>\n",
              "<style scoped>\n",
              "    .dataframe tbody tr th:only-of-type {\n",
              "        vertical-align: middle;\n",
              "    }\n",
              "\n",
              "    .dataframe tbody tr th {\n",
              "        vertical-align: top;\n",
              "    }\n",
              "\n",
              "    .dataframe thead th {\n",
              "        text-align: right;\n",
              "    }\n",
              "</style>\n",
              "<table border=\"1\" class=\"dataframe\">\n",
              "  <thead>\n",
              "    <tr style=\"text-align: right;\">\n",
              "      <th></th>\n",
              "      <th>count</th>\n",
              "    </tr>\n",
              "    <tr>\n",
              "      <th>Label</th>\n",
              "      <th></th>\n",
              "    </tr>\n",
              "  </thead>\n",
              "  <tbody>\n",
              "    <tr>\n",
              "      <th>BENIGN</th>\n",
              "      <td>2273097</td>\n",
              "    </tr>\n",
              "    <tr>\n",
              "      <th>DoS Hulk</th>\n",
              "      <td>231073</td>\n",
              "    </tr>\n",
              "    <tr>\n",
              "      <th>PortScan</th>\n",
              "      <td>158930</td>\n",
              "    </tr>\n",
              "    <tr>\n",
              "      <th>DDoS</th>\n",
              "      <td>128027</td>\n",
              "    </tr>\n",
              "    <tr>\n",
              "      <th>DoS GoldenEye</th>\n",
              "      <td>10293</td>\n",
              "    </tr>\n",
              "    <tr>\n",
              "      <th>FTP-Patator</th>\n",
              "      <td>7938</td>\n",
              "    </tr>\n",
              "    <tr>\n",
              "      <th>SSH-Patator</th>\n",
              "      <td>5897</td>\n",
              "    </tr>\n",
              "    <tr>\n",
              "      <th>DoS slowloris</th>\n",
              "      <td>5796</td>\n",
              "    </tr>\n",
              "    <tr>\n",
              "      <th>DoS Slowhttptest</th>\n",
              "      <td>5499</td>\n",
              "    </tr>\n",
              "    <tr>\n",
              "      <th>Bot</th>\n",
              "      <td>1966</td>\n",
              "    </tr>\n",
              "    <tr>\n",
              "      <th>Web Attack ï¿½ Brute Force</th>\n",
              "      <td>1507</td>\n",
              "    </tr>\n",
              "    <tr>\n",
              "      <th>Web Attack ï¿½ XSS</th>\n",
              "      <td>652</td>\n",
              "    </tr>\n",
              "    <tr>\n",
              "      <th>Infiltration</th>\n",
              "      <td>36</td>\n",
              "    </tr>\n",
              "    <tr>\n",
              "      <th>Web Attack ï¿½ Sql Injection</th>\n",
              "      <td>21</td>\n",
              "    </tr>\n",
              "    <tr>\n",
              "      <th>Heartbleed</th>\n",
              "      <td>11</td>\n",
              "    </tr>\n",
              "  </tbody>\n",
              "</table>\n",
              "</div><br><label><b>dtype:</b> int64</label>"
            ]
          },
          "metadata": {},
          "execution_count": 5
        }
      ],
      "source": [
        "df[\"Label\"].value_counts()"
      ]
    },
    {
      "cell_type": "code",
      "execution_count": null,
      "id": "15501f92",
      "metadata": {
        "colab": {
          "base_uri": "https://localhost:8080/"
        },
        "id": "15501f92",
        "outputId": "b90735b8-c9fa-41a6-a4f0-71692c07df07"
      },
      "outputs": [
        {
          "output_type": "stream",
          "name": "stdout",
          "text": [
            "(2830743, 79)\n"
          ]
        }
      ],
      "source": [
        "print(df.shape)"
      ]
    },
    {
      "cell_type": "code",
      "execution_count": null,
      "id": "0fa744d1",
      "metadata": {
        "id": "0fa744d1"
      },
      "outputs": [],
      "source": [
        "from scipy.stats import zscore\n",
        "\n",
        "def expand_categories(values):\n",
        "    result = []\n",
        "    s = values.value_counts()\n",
        "    t = float(len(values))\n",
        "    for v in s.index:\n",
        "        result.append(\"{}:{}%\".format(v,round(100*(s[v]/t),2)))\n",
        "    return \"[{}]\".format(\",\".join(result))\n",
        "\n",
        "def analyze(df):\n",
        "    print()\n",
        "    cols = df.columns.values\n",
        "    total = float(len(df))\n",
        "\n",
        "    print(\"{} rows\".format(int(total)))\n",
        "    for col in cols:\n",
        "        uniques = df[col].unique()\n",
        "        unique_count = len(uniques)\n",
        "        if unique_count>100:\n",
        "            print(\"** {}:{} ({}%)\".format(col,unique_count,int(((unique_count)/total)*100)))\n",
        "        else:\n",
        "            print(\"** {}:{}\".format(col,expand_categories(df[col])))\n",
        "            expand_categories(df[col])"
      ]
    },
    {
      "cell_type": "code",
      "execution_count": null,
      "id": "5145ae8b",
      "metadata": {
        "colab": {
          "base_uri": "https://localhost:8080/",
          "height": 474
        },
        "id": "5145ae8b",
        "outputId": "58b838ec-d457-4903-9cbb-85e2e8591561"
      },
      "outputs": [
        {
          "output_type": "display_data",
          "data": {
            "text/plain": [
              "<Figure size 1500x700 with 1 Axes>"
            ],
            "image/png": "[encoded data removed]"
          },
          "metadata": {}
        }
      ],
      "source": [
        "import matplotlib.pyplot as plt\n",
        "from matplotlib.pyplot import *\n",
        "\n",
        "plt.figure(figsize=(15,7))\n",
        "class_distribution = df['Label'].value_counts()\n",
        "class_distribution.plot(kind='bar')\n",
        "plt.xlabel('Class')\n",
        "plt.ylabel('Data points per Class')\n",
        "plt.title('Distribution of CICIDS2017 Training Data Before Cleaning')\n",
        "plt.grid()\n",
        "plt.show()\n",
        "\n",
        "# Before Cleaning Data set for Duplicate\n",
        "sorted_ds = np.argsort(-class_distribution.values)\n",
        "for i in sorted_ds:\n",
        "    print('Number of data points in class', class_distribution.index[i],':', class_distribution.values[i],\n",
        "          '(', np.round((class_distribution.values[i]/df.shape[0]*100), 3), '%)')"
      ]
    },
    {
      "cell_type": "code",
      "execution_count": null,
      "id": "c779400f",
      "metadata": {
        "colab": {
          "base_uri": "https://localhost:8080/"
        },
        "id": "c779400f",
        "outputId": "0577dbe8-cb32-4191-eb2b-e56e59f7b36f"
      },
      "outputs": [
        {
          "output_type": "stream",
          "name": "stdout",
          "text": [
            "Read 2829385 rows.\n"
          ]
        }
      ],
      "source": [
        "del sorted_ds\n",
        "\n",
        "#drop na values and reset index\n",
        "data_clean = df.dropna().reset_index()\n",
        "\n",
        "# Checkng for DUPLICATE values\n",
        "data_clean.drop_duplicates(keep='first', inplace = True)\n",
        "\n",
        "data_clean['Label'].value_counts()\n",
        "\n",
        "print(\"Read {} rows.\".format(len(data_clean)))"
      ]
    },
    {
      "cell_type": "code",
      "execution_count": null,
      "id": "163dddf5",
      "metadata": {
        "colab": {
          "base_uri": "https://localhost:8080/"
        },
        "id": "163dddf5",
        "outputId": "ee7c4281-47e2-4a6b-bf6b-7286576f305d"
      },
      "outputs": [
        {
          "output_type": "stream",
          "name": "stdout",
          "text": [
            "\n",
            "2830743 rows\n",
            "**  Destination Port:53805 (1%)\n",
            "**  Flow Duration:1050899 (37%)\n",
            "**  Total Fwd Packets:1432 (0%)\n",
            "**  Total Backward Packets:1747 (0%)\n",
            "** Total Length of Fwd Packets:17928 (0%)\n",
            "**  Total Length of Bwd Packets:64698 (2%)\n",
            "**  Fwd Packet Length Max:5279 (0%)\n",
            "**  Fwd Packet Length Min:384 (0%)\n",
            "**  Fwd Packet Length Mean:99716 (3%)\n",
            "**  Fwd Packet Length Std:253909 (8%)\n",
            "** Bwd Packet Length Max:4838 (0%)\n",
            "**  Bwd Packet Length Min:583 (0%)\n",
            "**  Bwd Packet Length Mean:147614 (5%)\n",
            "**  Bwd Packet Length Std:248869 (8%)\n",
            "** Flow Bytes/s:1593909 (56%)\n",
            "**  Flow Packets/s:1240164 (43%)\n",
            "**  Flow IAT Mean:1166311 (41%)\n",
            "**  Flow IAT Std:1056642 (37%)\n",
            "**  Flow IAT Max:580289 (20%)\n",
            "**  Flow IAT Min:136316 (4%)\n",
            "** Fwd IAT Total:493098 (17%)\n",
            "**  Fwd IAT Mean:737737 (26%)\n",
            "**  Fwd IAT Std:700313 (24%)\n",
            "**  Fwd IAT Max:437316 (15%)\n",
            "**  Fwd IAT Min:110631 (3%)\n",
            "** Bwd IAT Total:414928 (14%)\n",
            "**  Bwd IAT Mean:670824 (23%)\n",
            "**  Bwd IAT Std:709042 (25%)\n",
            "**  Bwd IAT Max:368285 (13%)\n",
            "**  Bwd IAT Min:66074 (2%)\n",
            "** Fwd PSH Flags:[0:95.36%,1:4.64%]\n",
            "**  Bwd PSH Flags:[0:100.0%]\n",
            "**  Fwd URG Flags:[0:99.99%,1:0.01%]\n",
            "**  Bwd URG Flags:[0:100.0%]\n",
            "**  Fwd Header Length:3771 (0%)\n",
            "**  Bwd Header Length:3945 (0%)\n",
            "** Fwd Packets/s:1220423 (43%)\n",
            "**  Bwd Packets/s:1107886 (39%)\n",
            "**  Min Packet Length:215 (0%)\n",
            "**  Max Packet Length:5708 (0%)\n",
            "**  Packet Length Mean:215826 (7%)\n",
            "**  Packet Length Std:412246 (14%)\n",
            "**  Packet Length Variance:405565 (14%)\n",
            "** FIN Flag Count:[0:96.46%,1:3.54%]\n",
            "**  SYN Flag Count:[0:95.36%,1:4.64%]\n",
            "**  RST Flag Count:[0:99.98%,1:0.02%]\n",
            "**  PSH Flag Count:[0:70.19%,1:29.81%]\n",
            "**  ACK Flag Count:[0:68.42%,1:31.58%]\n",
            "**  URG Flag Count:[0:90.52%,1:9.48%]\n",
            "**  CWE Flag Count:[0:99.99%,1:0.01%]\n",
            "**  ECE Flag Count:[0:99.98%,1:0.02%]\n",
            "**  Down/Up Ratio:[1:60.24%,0:37.03%,2:1.77%,5:0.38%,3:0.23%,6:0.23%,4:0.1%,7:0.02%,8:0.0%,29:0.0%,12:0.0%,10:0.0%,9:0.0%,27:0.0%,11:0.0%,39:0.0%,43:0.0%,32:0.0%,25:0.0%,108:0.0%,124:0.0%,16:0.0%,90:0.0%,21:0.0%,156:0.0%,20:0.0%,74:0.0%,28:0.0%,14:0.0%,35:0.0%,26:0.0%]\n",
            "**  Average Packet Size:212207 (7%)\n",
            "**  Avg Fwd Segment Size:99716 (3%)\n",
            "**  Avg Bwd Segment Size:147611 (5%)\n",
            "**  Fwd Header Length.1:3771 (0%)\n",
            "** Fwd Avg Bytes/Bulk:[0:100.0%]\n",
            "**  Fwd Avg Packets/Bulk:[0:100.0%]\n",
            "**  Fwd Avg Bulk Rate:[0:100.0%]\n",
            "**  Bwd Avg Bytes/Bulk:[0:100.0%]\n",
            "**  Bwd Avg Packets/Bulk:[0:100.0%]\n",
            "** Bwd Avg Bulk Rate:[0:100.0%]\n",
            "** Subflow Fwd Packets:1432 (0%)\n",
            "**  Subflow Fwd Bytes:17928 (0%)\n",
            "**  Subflow Bwd Packets:1747 (0%)\n",
            "**  Subflow Bwd Bytes:64738 (2%)\n",
            "** Init_Win_bytes_forward:12151 (0%)\n",
            "**  Init_Win_bytes_backward:13112 (0%)\n",
            "**  act_data_pkt_fwd:1093 (0%)\n",
            "**  min_seg_size_forward:[20:48.94%,32:40.82%,24:4.99%,40:4.73%,44:0.28%,28:0.16%,0:0.06%,56:0.0%,36:0.0%,60:0.0%,48:0.0%,52:0.0%,8:0.0%,-83885313:0.0%,14:0.0%,6:0.0%,-536870660:0.0%,12:0.0%,78:0.0%,93:0.0%,10:0.0%,138:0.0%,46:0.0%,31:0.0%,-536870661:0.0%,38:0.0%,126:0.0%,-1:0.0%]\n",
            "** Active Mean:326325 (11%)\n",
            "**  Active Std:202826 (7%)\n",
            "**  Active Max:299565 (10%)\n",
            "**  Active Min:175670 (6%)\n",
            "** Idle Mean:222016 (7%)\n",
            "**  Idle Std:197616 (6%)\n",
            "**  Idle Max:149737 (5%)\n",
            "**  Idle Min:223888 (7%)\n",
            "** Label:[BENIGN:80.3%,DoS Hulk:8.16%,PortScan:5.61%,DDoS:4.52%,DoS GoldenEye:0.36%,FTP-Patator:0.28%,SSH-Patator:0.21%,DoS slowloris:0.2%,DoS Slowhttptest:0.19%,Bot:0.07%,Web Attack ï¿½ Brute Force:0.05%,Web Attack ï¿½ XSS:0.02%,Infiltration:0.0%,Web Attack ï¿½ Sql Injection:0.0%,Heartbleed:0.0%]\n"
          ]
        }
      ],
      "source": [
        "analyze(df)"
      ]
    },
    {
      "cell_type": "code",
      "execution_count": null,
      "id": "d304e9a1",
      "metadata": {
        "colab": {
          "base_uri": "https://localhost:8080/",
          "height": 474
        },
        "id": "d304e9a1",
        "outputId": "4cfb0173-3a4b-4a4b-c965-d2c8c290d783"
      },
      "outputs": [
        {
          "output_type": "display_data",
          "data": {
            "text/plain": [
              "<Figure size 1500x700 with 1 Axes>"
            ],
            "image/png": "[encoded data removed]"
          },
          "metadata": {}
        }
      ],
      "source": [
        "plt.figure(figsize=(15,7))\n",
        "class_distribution = data_clean['Label'].value_counts()\n",
        "class_distribution.plot(kind='bar')\n",
        "plt.xlabel('Class')\n",
        "plt.ylabel('Data points per Class')\n",
        "plt.title('Distribution of Cleaned CICIDS2017 Training Data')\n",
        "plt.grid()\n",
        "plt.show()"
      ]
    },
    {
      "cell_type": "code",
      "execution_count": null,
      "id": "a1b96baf",
      "metadata": {
        "colab": {
          "base_uri": "https://localhost:8080/"
        },
        "id": "a1b96baf",
        "outputId": "a7f85bd4-8040-43b3-d05e-076cc9af9358"
      },
      "outputs": [
        {
          "output_type": "stream",
          "name": "stdout",
          "text": [
            "Number of data points in class BENIGN : 2272688 ( 80.286 %)\n",
            "Number of data points in class DoS Hulk : 230124 ( 8.129 %)\n",
            "Number of data points in class PortScan : 158930 ( 5.614 %)\n",
            "Number of data points in class DDoS : 128027 ( 4.523 %)\n",
            "Number of data points in class DoS GoldenEye : 10293 ( 0.364 %)\n",
            "Number of data points in class FTP-Patator : 7938 ( 0.28 %)\n",
            "Number of data points in class SSH-Patator : 5897 ( 0.208 %)\n",
            "Number of data points in class DoS slowloris : 5796 ( 0.205 %)\n",
            "Number of data points in class DoS Slowhttptest : 5499 ( 0.194 %)\n",
            "Number of data points in class Bot : 1966 ( 0.069 %)\n",
            "Number of data points in class Web Attack ï¿½ Brute Force : 1507 ( 0.053 %)\n",
            "Number of data points in class Web Attack ï¿½ XSS : 652 ( 0.023 %)\n",
            "Number of data points in class Infiltration : 36 ( 0.001 %)\n",
            "Number of data points in class Web Attack ï¿½ Sql Injection : 21 ( 0.001 %)\n",
            "Number of data points in class Heartbleed : 11 ( 0.0 %)\n"
          ]
        }
      ],
      "source": [
        "# After Cleaning Data set for Duplicate\n",
        "sorted_ds = np.argsort(-class_distribution.values)\n",
        "for i in sorted_ds:\n",
        "    print('Number of data points in class', class_distribution.index[i],':', class_distribution.values[i],\n",
        "          '(', np.round((class_distribution.values[i]/df.shape[0]*100), 3), '%)')"
      ]
    },
    {
      "cell_type": "code",
      "execution_count": null,
      "id": "f3f50489",
      "metadata": {
        "colab": {
          "base_uri": "https://localhost:8080/"
        },
        "id": "f3f50489",
        "outputId": "6241f248-dbb0-4f3f-9a51-efc2fdf22199"
      },
      "outputs": [
        {
          "output_type": "stream",
          "name": "stdout",
          "text": [
            "Column 'Flow ID' not found in DataFrame. Skipping drop operation.\n",
            "Column ' Source IP' not found in DataFrame. Skipping drop operation.\n",
            "Column ' Destination IP' not found in DataFrame. Skipping drop operation.\n",
            "Column ' Timestamp' not found in DataFrame. Skipping drop operation.\n"
          ]
        }
      ],
      "source": [
        "# Check if the column name exists before attempting to drop it\n",
        "if 'Flow ID' in data_clean.columns:\n",
        "    data_clean = data_clean.drop('Flow ID', axis=1)\n",
        "else:\n",
        "    print(\"Column 'Flow ID' not found in DataFrame. Skipping drop operation.\")\n",
        "\n",
        "if ' Source IP' in data_clean.columns:\n",
        "    data_clean = data_clean.drop(' Source IP', axis=1)\n",
        "else:\n",
        "    print(\"Column ' Source IP' not found in DataFrame. Skipping drop operation.\")\n",
        "\n",
        "if ' Destination IP' in data_clean.columns:\n",
        "    data_clean = data_clean.drop(' Destination IP', axis=1)\n",
        "else:\n",
        "    print(\"Column ' Destination IP' not found in DataFrame. Skipping drop operation.\")\n",
        "\n",
        "if ' Timestamp' in data_clean.columns:\n",
        "    data_clean = data_clean.drop(' Timestamp', axis=1)\n",
        "else:\n",
        "    print(\"Column ' Timestamp' not found in DataFrame. Skipping drop operation.\")"
      ]
    },
    {
      "cell_type": "code",
      "execution_count": null,
      "id": "00d9b1a3",
      "metadata": {
        "colab": {
          "base_uri": "https://localhost:8080/",
          "height": 586
        },
        "id": "00d9b1a3",
        "outputId": "ba0e85c6-def6-4004-af60-66b1446b7b5a"
      },
      "outputs": [
        {
          "output_type": "execute_result",
          "data": {
            "text/plain": [
              "Label\n",
              "0     2272688\n",
              "4      230124\n",
              "10     158930\n",
              "2      128027\n",
              "3       10293\n",
              "7        7938\n",
              "11       5897\n",
              "6        5796\n",
              "5        5499\n",
              "1        1966\n",
              "12       1507\n",
              "14        652\n",
              "9          36\n",
              "13         21\n",
              "8          11\n",
              "Name: count, dtype: int64"
            ],
            "text/html": [
              "<div>\n",
              "<style scoped>\n",
              "    .dataframe tbody tr th:only-of-type {\n",
              "        vertical-align: middle;\n",
              "    }\n",
              "\n",
              "    .dataframe tbody tr th {\n",
              "        vertical-align: top;\n",
              "    }\n",
              "\n",
              "    .dataframe thead th {\n",
              "        text-align: right;\n",
              "    }\n",
              "</style>\n",
              "<table border=\"1\" class=\"dataframe\">\n",
              "  <thead>\n",
              "    <tr style=\"text-align: right;\">\n",
              "      <th></th>\n",
              "      <th>count</th>\n",
              "    </tr>\n",
              "    <tr>\n",
              "      <th>Label</th>\n",
              "      <th></th>\n",
              "    </tr>\n",
              "  </thead>\n",
              "  <tbody>\n",
              "    <tr>\n",
              "      <th>0</th>\n",
              "      <td>2272688</td>\n",
              "    </tr>\n",
              "    <tr>\n",
              "      <th>4</th>\n",
              "      <td>230124</td>\n",
              "    </tr>\n",
              "    <tr>\n",
              "      <th>10</th>\n",
              "      <td>158930</td>\n",
              "    </tr>\n",
              "    <tr>\n",
              "      <th>2</th>\n",
              "      <td>128027</td>\n",
              "    </tr>\n",
              "    <tr>\n",
              "      <th>3</th>\n",
              "      <td>10293</td>\n",
              "    </tr>\n",
              "    <tr>\n",
              "      <th>7</th>\n",
              "      <td>7938</td>\n",
              "    </tr>\n",
              "    <tr>\n",
              "      <th>11</th>\n",
              "      <td>5897</td>\n",
              "    </tr>\n",
              "    <tr>\n",
              "      <th>6</th>\n",
              "      <td>5796</td>\n",
              "    </tr>\n",
              "    <tr>\n",
              "      <th>5</th>\n",
              "      <td>5499</td>\n",
              "    </tr>\n",
              "    <tr>\n",
              "      <th>1</th>\n",
              "      <td>1966</td>\n",
              "    </tr>\n",
              "    <tr>\n",
              "      <th>12</th>\n",
              "      <td>1507</td>\n",
              "    </tr>\n",
              "    <tr>\n",
              "      <th>14</th>\n",
              "      <td>652</td>\n",
              "    </tr>\n",
              "    <tr>\n",
              "      <th>9</th>\n",
              "      <td>36</td>\n",
              "    </tr>\n",
              "    <tr>\n",
              "      <th>13</th>\n",
              "      <td>21</td>\n",
              "    </tr>\n",
              "    <tr>\n",
              "      <th>8</th>\n",
              "      <td>11</td>\n",
              "    </tr>\n",
              "  </tbody>\n",
              "</table>\n",
              "</div><br><label><b>dtype:</b> int64</label>"
            ]
          },
          "metadata": {},
          "execution_count": 15
        }
      ],
      "source": [
        "from sklearn.model_selection import train_test_split\n",
        "from sklearn.preprocessing import OneHotEncoder, StandardScaler, LabelEncoder\n",
        "\n",
        "\n",
        "\n",
        "#drop na values and reset index\n",
        "data_clean = data_clean.dropna().reset_index()\n",
        "\n",
        "# label encoding\n",
        "labelencoder = LabelEncoder()\n",
        "data_clean['Label'] = labelencoder.fit_transform(data_clean['Label'])\n",
        "\n",
        "data_clean['Label'].value_counts()"
      ]
    },
    {
      "cell_type": "code",
      "execution_count": null,
      "id": "66d584d9",
      "metadata": {
        "colab": {
          "base_uri": "https://localhost:8080/"
        },
        "id": "66d584d9",
        "outputId": "1ff79a0a-92f5-4e61-c68a-45035abd8e18"
      },
      "outputs": [
        {
          "output_type": "stream",
          "name": "stdout",
          "text": [
            "(2829385, 81)\n"
          ]
        }
      ],
      "source": [
        "print(data_clean.shape)"
      ]
    },
    {
      "cell_type": "code",
      "execution_count": null,
      "id": "18741431",
      "metadata": {
        "id": "18741431"
      },
      "outputs": [],
      "source": [
        "data_np = data_clean.to_numpy(dtype=\"float32\")\n",
        "\n",
        "#drop inf values\n",
        "data_np = data_np[~np.isinf(data_np).any(axis=1)]\n",
        "\n",
        "X = data_np[:, 0:81]\n",
        "\n",
        "enc = OneHotEncoder()\n",
        "\n",
        "Y = enc.fit_transform(data_np[:,80:]).toarray()"
      ]
    },
    {
      "cell_type": "code",
      "execution_count": null,
      "id": "e227533c",
      "metadata": {
        "colab": {
          "base_uri": "https://localhost:8080/"
        },
        "id": "e227533c",
        "outputId": "3df43195-d553-4408-ae8c-3db202b3d9d9"
      },
      "outputs": [
        {
          "output_type": "stream",
          "name": "stdout",
          "text": [
            "X.shape =  (2827876, 81)\n",
            "Y.shape =  (2827876, 15)\n",
            "X_train.shape =  (2120907, 81)\n",
            "y_train.shape =  (2120907, 15)\n",
            "X_test.shape =  (706969, 81)\n",
            "y_test.shape =  (706969, 15)\n"
          ]
        }
      ],
      "source": [
        "scaler = StandardScaler()\n",
        "X_scaled = scaler.fit_transform(X)\n",
        "\n",
        "# Split the data set into training and testing\n",
        "X_train, X_test, Y_train, Y_test = train_test_split(\n",
        "    X_scaled, Y, test_size=0.25, random_state=2, shuffle=True)\n",
        "\n",
        "_features = X.shape[1]\n",
        "n_classes = Y.shape[1]\n",
        "\n",
        "print('X.shape = ',X.shape)\n",
        "print('Y.shape = ',Y.shape)\n",
        "print('X_train.shape = ',X_train.shape)\n",
        "print('y_train.shape = ', Y_train.shape)\n",
        "print('X_test.shape = ', X_test.shape)\n",
        "print('y_test.shape = ',Y_test.shape)"
      ]
    },
    {
      "cell_type": "code",
      "execution_count": null,
      "id": "555981d1",
      "metadata": {
        "colab": {
          "base_uri": "https://localhost:8080/"
        },
        "id": "555981d1",
        "outputId": "d1847add-28b0-4959-bc2a-cf0455206256"
      },
      "outputs": [
        {
          "output_type": "stream",
          "name": "stdout",
          "text": [
            "X Shape:  (2827876, 81)\n",
            "Y Shape:  (2827876, 15)\n"
          ]
        }
      ],
      "source": [
        "print(\"X Shape: \", X.shape)\n",
        "print(\"Y Shape: \", Y.shape)"
      ]
    },
    {
      "cell_type": "code",
      "execution_count": null,
      "id": "7d72ff61",
      "metadata": {
        "id": "7d72ff61"
      },
      "outputs": [],
      "source": [
        "from keras import regularizers\n",
        "from keras.layers import Dense, LeakyReLU, BatchNormalization, Input, LSTM, TimeDistributed, RepeatVector, Lambda\n",
        "from keras import Input\n",
        "from sklearn.preprocessing import MinMaxScaler\n",
        "from keras.models import Model\n",
        "from keras import regularizers"
      ]
    },
    {
      "cell_type": "code",
      "execution_count": null,
      "id": "fb8cfe24",
      "metadata": {
        "colab": {
          "base_uri": "https://localhost:8080/"
        },
        "id": "fb8cfe24",
        "outputId": "1c0646e3-730b-445b-e79a-95203511b50e"
      },
      "outputs": [
        {
          "output_type": "stream",
          "name": "stdout",
          "text": [
            "Training data shape: (2120907, 1, 81)\n",
            "Test data shape: (706969, 1, 81)\n"
          ]
        }
      ],
      "source": [
        "# reshape inputs for LSTM [samples, timesteps, features]\n",
        "X_train = X_train.reshape(X_train.shape[0], 1, X_train.shape[1])\n",
        "print(\"Training data shape:\", X_train.shape)\n",
        "X_test = X_test.reshape(X_test.shape[0], 1, X_test.shape[1])\n",
        "print(\"Test data shape:\", X_test.shape)"
      ]
    },
    {
      "cell_type": "code",
      "execution_count": null,
      "id": "77ecf842",
      "metadata": {
        "colab": {
          "base_uri": "https://localhost:8080/"
        },
        "id": "77ecf842",
        "outputId": "06c925c3-5f8d-4cf7-da57-5b4af8236fec"
      },
      "outputs": [
        {
          "output_type": "stream",
          "name": "stdout",
          "text": [
            "X.shape =  (2827876, 81)\n",
            "Y.shape =  (2827876, 15)\n",
            "X_train.shape =  (2120907, 1, 81)\n",
            "y_train.shape =  (2120907, 15)\n",
            "X_test.shape =  (706969, 1, 81)\n",
            "y_test.shape =  (706969, 15)\n"
          ]
        }
      ],
      "source": [
        "print('X.shape = ',X.shape)\n",
        "print('Y.shape = ',Y.shape)\n",
        "print('X_train.shape = ',X_train.shape)\n",
        "print('y_train.shape = ', Y_train.shape)\n",
        "print('X_test.shape = ', X_test.shape)\n",
        "print('y_test.shape = ',Y_test.shape)"
      ]
    },
    {
      "cell_type": "code",
      "execution_count": null,
      "id": "8c2b40bc",
      "metadata": {
        "colab": {
          "base_uri": "https://localhost:8080/"
        },
        "id": "8c2b40bc",
        "outputId": "eeaa7b76-8845-4879-9a59-a18aaa44476e"
      },
      "outputs": [
        {
          "output_type": "stream",
          "name": "stdout",
          "text": [
            "Input Features:  81\n",
            "Input Classes:  15\n"
          ]
        }
      ],
      "source": [
        "print('Input Features: ', _features)\n",
        "print('Input Classes: ', n_classes)"
      ]
    },
    {
      "cell_type": "markdown",
      "id": "beb30523",
      "metadata": {
        "id": "beb30523"
      },
      "source": [
        "# LSTM-AE Model"
      ]
    },
    {
      "cell_type": "code",
      "execution_count": null,
      "id": "1a4a7909",
      "metadata": {
        "id": "1a4a7909"
      },
      "outputs": [],
      "source": [
        "# define the autoencoder network model\n",
        "def autoencoder_model(X):\n",
        "    inputs = Input(shape=(X.shape[1], X.shape[2]))\n",
        "    L1 = LSTM(196, activation='relu', return_sequences=True,\n",
        "              kernel_regularizer=regularizers.l2(0.00))(inputs)\n",
        "    L2 = LSTM(125, activation='relu', return_sequences=False)(L1)\n",
        "    L3 = RepeatVector(X.shape[1])(L2)\n",
        "    L4 = LSTM(125, activation='relu', return_sequences=True)(L3)\n",
        "    L5 = LSTM(196, activation='relu', return_sequences=True)(L4)\n",
        "    output = TimeDistributed(Dense(X.shape[2]))(L5)\n",
        "    model = Model(inputs=inputs, outputs=output)\n",
        "    return model"
      ]
    },
    {
      "cell_type": "markdown",
      "id": "0a2f3581",
      "metadata": {
        "id": "0a2f3581"
      },
      "source": [
        "# With default learning rate and mse loss function."
      ]
    },
    {
      "cell_type": "code",
      "execution_count": null,
      "id": "b061aaa4",
      "metadata": {
        "colab": {
          "base_uri": "https://localhost:8080/",
          "height": 379
        },
        "id": "b061aaa4",
        "outputId": "fe9892d1-9d51-454a-b32a-88f7bfea05a2"
      },
      "outputs": [
        {
          "output_type": "display_data",
          "data": {
            "text/plain": [
              "\u001b[1mModel: \"functional_2\"\u001b[0m\n"
            ],
            "text/html": [
              "<pre style=\"white-space:pre;overflow-x:auto;line-height:normal;font-family:Menlo,'DejaVu Sans Mono',consolas,'Courier New',monospace\"><span style=\"font-weight: bold\">Model: \"functional_2\"</span>\n",
              "</pre>\n"
            ]
          },
          "metadata": {}
        },
        {
          "output_type": "display_data",
          "data": {
            "text/plain": [
              "┏━━━━━━━━━━━━━━━━━━━━━━━━━━━━━━━━━━━━━━┳━━━━━━━━━━━━━━━━━━━━━━━━━━━━━┳━━━━━━━━━━━━━━━━━┓\n",
              "┃\u001b[1m \u001b[0m\u001b[1mLayer (type)                        \u001b[0m\u001b[1m \u001b[0m┃\u001b[1m \u001b[0m\u001b[1mOutput Shape               \u001b[0m\u001b[1m \u001b[0m┃\u001b[1m \u001b[0m\u001b[1m        Param #\u001b[0m\u001b[1m \u001b[0m┃\n",
              "┡━━━━━━━━━━━━━━━━━━━━━━━━━━━━━━━━━━━━━━╇━━━━━━━━━━━━━━━━━━━━━━━━━━━━━╇━━━━━━━━━━━━━━━━━┩\n",
              "│ input_layer_2 (\u001b[38;5;33mInputLayer\u001b[0m)           │ (\u001b[38;5;45mNone\u001b[0m, \u001b[38;5;34m1\u001b[0m, \u001b[38;5;34m81\u001b[0m)               │               \u001b[38;5;34m0\u001b[0m │\n",
              "├──────────────────────────────────────┼─────────────────────────────┼─────────────────┤\n",
              "│ lstm_8 (\u001b[38;5;33mLSTM\u001b[0m)                        │ (\u001b[38;5;45mNone\u001b[0m, \u001b[38;5;34m1\u001b[0m, \u001b[38;5;34m196\u001b[0m)              │         \u001b[38;5;34m217,952\u001b[0m │\n",
              "├──────────────────────────────────────┼─────────────────────────────┼─────────────────┤\n",
              "│ lstm_9 (\u001b[38;5;33mLSTM\u001b[0m)                        │ (\u001b[38;5;45mNone\u001b[0m, \u001b[38;5;34m125\u001b[0m)                 │         \u001b[38;5;34m161,000\u001b[0m │\n",
              "├──────────────────────────────────────┼─────────────────────────────┼─────────────────┤\n",
              "│ repeat_vector_2 (\u001b[38;5;33mRepeatVector\u001b[0m)       │ (\u001b[38;5;45mNone\u001b[0m, \u001b[38;5;34m1\u001b[0m, \u001b[38;5;34m125\u001b[0m)              │               \u001b[38;5;34m0\u001b[0m │\n",
              "├──────────────────────────────────────┼─────────────────────────────┼─────────────────┤\n",
              "│ lstm_10 (\u001b[38;5;33mLSTM\u001b[0m)                       │ (\u001b[38;5;45mNone\u001b[0m, \u001b[38;5;34m1\u001b[0m, \u001b[38;5;34m125\u001b[0m)              │         \u001b[38;5;34m125,500\u001b[0m │\n",
              "├──────────────────────────────────────┼─────────────────────────────┼─────────────────┤\n",
              "│ lstm_11 (\u001b[38;5;33mLSTM\u001b[0m)                       │ (\u001b[38;5;45mNone\u001b[0m, \u001b[38;5;34m1\u001b[0m, \u001b[38;5;34m196\u001b[0m)              │         \u001b[38;5;34m252,448\u001b[0m │\n",
              "├──────────────────────────────────────┼─────────────────────────────┼─────────────────┤\n",
              "│ time_distributed_2 (\u001b[38;5;33mTimeDistributed\u001b[0m) │ (\u001b[38;5;45mNone\u001b[0m, \u001b[38;5;34m1\u001b[0m, \u001b[38;5;34m81\u001b[0m)               │          \u001b[38;5;34m15,957\u001b[0m │\n",
              "└──────────────────────────────────────┴─────────────────────────────┴─────────────────┘\n"
            ],
            "text/html": [
              "<pre style=\"white-space:pre;overflow-x:auto;line-height:normal;font-family:Menlo,'DejaVu Sans Mono',consolas,'Courier New',monospace\">┏━━━━━━━━━━━━━━━━━━━━━━━━━━━━━━━━━━━━━━┳━━━━━━━━━━━━━━━━━━━━━━━━━━━━━┳━━━━━━━━━━━━━━━━━┓\n",
              "┃<span style=\"font-weight: bold\"> Layer (type)                         </span>┃<span style=\"font-weight: bold\"> Output Shape                </span>┃<span style=\"font-weight: bold\">         Param # </span>┃\n",
              "┡━━━━━━━━━━━━━━━━━━━━━━━━━━━━━━━━━━━━━━╇━━━━━━━━━━━━━━━━━━━━━━━━━━━━━╇━━━━━━━━━━━━━━━━━┩\n",
              "│ input_layer_2 (<span style=\"color: #0087ff; text-decoration-color: #0087ff\">InputLayer</span>)           │ (<span style=\"color: #00d7ff; text-decoration-color: #00d7ff\">None</span>, <span style=\"color: #00af00; text-decoration-color: #00af00\">1</span>, <span style=\"color: #00af00; text-decoration-color: #00af00\">81</span>)               │               <span style=\"color: #00af00; text-decoration-color: #00af00\">0</span> │\n",
              "├──────────────────────────────────────┼─────────────────────────────┼─────────────────┤\n",
              "│ lstm_8 (<span style=\"color: #0087ff; text-decoration-color: #0087ff\">LSTM</span>)                        │ (<span style=\"color: #00d7ff; text-decoration-color: #00d7ff\">None</span>, <span style=\"color: #00af00; text-decoration-color: #00af00\">1</span>, <span style=\"color: #00af00; text-decoration-color: #00af00\">196</span>)              │         <span style=\"color: #00af00; text-decoration-color: #00af00\">217,952</span> │\n",
              "├──────────────────────────────────────┼─────────────────────────────┼─────────────────┤\n",
              "│ lstm_9 (<span style=\"color: #0087ff; text-decoration-color: #0087ff\">LSTM</span>)                        │ (<span style=\"color: #00d7ff; text-decoration-color: #00d7ff\">None</span>, <span style=\"color: #00af00; text-decoration-color: #00af00\">125</span>)                 │         <span style=\"color: #00af00; text-decoration-color: #00af00\">161,000</span> │\n",
              "├──────────────────────────────────────┼─────────────────────────────┼─────────────────┤\n",
              "│ repeat_vector_2 (<span style=\"color: #0087ff; text-decoration-color: #0087ff\">RepeatVector</span>)       │ (<span style=\"color: #00d7ff; text-decoration-color: #00d7ff\">None</span>, <span style=\"color: #00af00; text-decoration-color: #00af00\">1</span>, <span style=\"color: #00af00; text-decoration-color: #00af00\">125</span>)              │               <span style=\"color: #00af00; text-decoration-color: #00af00\">0</span> │\n",
              "├──────────────────────────────────────┼─────────────────────────────┼─────────────────┤\n",
              "│ lstm_10 (<span style=\"color: #0087ff; text-decoration-color: #0087ff\">LSTM</span>)                       │ (<span style=\"color: #00d7ff; text-decoration-color: #00d7ff\">None</span>, <span style=\"color: #00af00; text-decoration-color: #00af00\">1</span>, <span style=\"color: #00af00; text-decoration-color: #00af00\">125</span>)              │         <span style=\"color: #00af00; text-decoration-color: #00af00\">125,500</span> │\n",
              "├──────────────────────────────────────┼─────────────────────────────┼─────────────────┤\n",
              "│ lstm_11 (<span style=\"color: #0087ff; text-decoration-color: #0087ff\">LSTM</span>)                       │ (<span style=\"color: #00d7ff; text-decoration-color: #00d7ff\">None</span>, <span style=\"color: #00af00; text-decoration-color: #00af00\">1</span>, <span style=\"color: #00af00; text-decoration-color: #00af00\">196</span>)              │         <span style=\"color: #00af00; text-decoration-color: #00af00\">252,448</span> │\n",
              "├──────────────────────────────────────┼─────────────────────────────┼─────────────────┤\n",
              "│ time_distributed_2 (<span style=\"color: #0087ff; text-decoration-color: #0087ff\">TimeDistributed</span>) │ (<span style=\"color: #00d7ff; text-decoration-color: #00d7ff\">None</span>, <span style=\"color: #00af00; text-decoration-color: #00af00\">1</span>, <span style=\"color: #00af00; text-decoration-color: #00af00\">81</span>)               │          <span style=\"color: #00af00; text-decoration-color: #00af00\">15,957</span> │\n",
              "└──────────────────────────────────────┴─────────────────────────────┴─────────────────┘\n",
              "</pre>\n"
            ]
          },
          "metadata": {}
        },
        {
          "output_type": "display_data",
          "data": {
            "text/plain": [
              "\u001b[1m Total params: \u001b[0m\u001b[38;5;34m772,857\u001b[0m (2.95 MB)\n"
            ],
            "text/html": [
              "<pre style=\"white-space:pre;overflow-x:auto;line-height:normal;font-family:Menlo,'DejaVu Sans Mono',consolas,'Courier New',monospace\"><span style=\"font-weight: bold\"> Total params: </span><span style=\"color: #00af00; text-decoration-color: #00af00\">772,857</span> (2.95 MB)\n",
              "</pre>\n"
            ]
          },
          "metadata": {}
        },
        {
          "output_type": "display_data",
          "data": {
            "text/plain": [
              "\u001b[1m Trainable params: \u001b[0m\u001b[38;5;34m772,857\u001b[0m (2.95 MB)\n"
            ],
            "text/html": [
              "<pre style=\"white-space:pre;overflow-x:auto;line-height:normal;font-family:Menlo,'DejaVu Sans Mono',consolas,'Courier New',monospace\"><span style=\"font-weight: bold\"> Trainable params: </span><span style=\"color: #00af00; text-decoration-color: #00af00\">772,857</span> (2.95 MB)\n",
              "</pre>\n"
            ]
          },
          "metadata": {}
        },
        {
          "output_type": "display_data",
          "data": {
            "text/plain": [
              "\u001b[1m Non-trainable params: \u001b[0m\u001b[38;5;34m0\u001b[0m (0.00 B)\n"
            ],
            "text/html": [
              "<pre style=\"white-space:pre;overflow-x:auto;line-height:normal;font-family:Menlo,'DejaVu Sans Mono',consolas,'Courier New',monospace\"><span style=\"font-weight: bold\"> Non-trainable params: </span><span style=\"color: #00af00; text-decoration-color: #00af00\">0</span> (0.00 B)\n",
              "</pre>\n"
            ]
          },
          "metadata": {}
        }
      ],
      "source": [
        "# create the autoencoder model\n",
        "model = autoencoder_model(X_train)\n",
        "model.compile(optimizer='adam', loss='mse', metrics=['accuracy'])\n",
        "model.summary()"
      ]
    },
    {
      "cell_type": "code",
      "execution_count": null,
      "id": "648c2442",
      "metadata": {
        "id": "648c2442"
      },
      "outputs": [],
      "source": [
        "# fit the model to the data\n",
        "history = model.fit(X_train, X_train, epochs=5, batch_size=128, validation_split=0.05).history"
      ]
    },
    {
      "cell_type": "code",
      "execution_count": null,
      "id": "7e5074de",
      "metadata": {
        "id": "7e5074de",
        "outputId": "a6c354f7-58f5-424c-a03f-d6c6e48d33c3"
      },
      "outputs": [
        {
          "name": "stdout",
          "output_type": "stream",
          "text": [
            "22093/22093 [==============================] - 47s 2ms/step\n",
            "Inference time: 57.69 seconds\n"
          ]
        }
      ],
      "source": [
        "import time\n",
        "\n",
        "# Measure inference time\n",
        "start_time = time.time()\n",
        "pred = model.predict(X_test)\n",
        "end_time = time.time()\n",
        "\n",
        "inference_time = end_time - start_time\n",
        "print(\"Inference time: {:.2f} seconds\".format(inference_time))\n",
        "\n",
        "pred = np.argmax(pred,axis=1)\n",
        "y_test = Y_test.argmax(axis=1)"
      ]
    },
    {
      "cell_type": "markdown",
      "id": "1f3b51c7",
      "metadata": {
        "id": "1f3b51c7"
      },
      "source": [
        "# With learning rate=0.0001 and mse loss function."
      ]
    },
    {
      "cell_type": "code",
      "execution_count": null,
      "id": "2daaa1c6",
      "metadata": {
        "id": "2daaa1c6",
        "outputId": "6d2e9883-f78c-40ac-c5c9-97b49fe22d3b"
      },
      "outputs": [
        {
          "name": "stdout",
          "output_type": "stream",
          "text": [
            "WARNING:tensorflow:Layer lstm_8 will not use cuDNN kernels since it doesn't meet the criteria. It will use a generic GPU kernel as fallback when running on GPU.\n",
            "WARNING:tensorflow:Layer lstm_9 will not use cuDNN kernels since it doesn't meet the criteria. It will use a generic GPU kernel as fallback when running on GPU.\n",
            "WARNING:tensorflow:Layer lstm_10 will not use cuDNN kernels since it doesn't meet the criteria. It will use a generic GPU kernel as fallback when running on GPU.\n",
            "WARNING:tensorflow:Layer lstm_11 will not use cuDNN kernels since it doesn't meet the criteria. It will use a generic GPU kernel as fallback when running on GPU.\n",
            "Model: \"model_2\"\n",
            "_________________________________________________________________\n",
            " Layer (type)                Output Shape              Param #   \n",
            "=================================================================\n",
            " input_3 (InputLayer)        [(None, 1, 81)]           0         \n",
            "                                                                 \n",
            " lstm_8 (LSTM)               (None, 1, 196)            217952    \n",
            "                                                                 \n",
            " lstm_9 (LSTM)               (None, 125)               161000    \n",
            "                                                                 \n",
            " repeat_vector_2 (RepeatVect  (None, 1, 125)           0         \n",
            " or)                                                             \n",
            "                                                                 \n",
            " lstm_10 (LSTM)              (None, 1, 125)            125500    \n",
            "                                                                 \n",
            " lstm_11 (LSTM)              (None, 1, 196)            252448    \n",
            "                                                                 \n",
            " time_distributed_2 (TimeDis  (None, 1, 81)            15957     \n",
            " tributed)                                                       \n",
            "                                                                 \n",
            "=================================================================\n",
            "Total params: 772,857\n",
            "Trainable params: 772,857\n",
            "Non-trainable params: 0\n",
            "_________________________________________________________________\n"
          ]
        }
      ],
      "source": [
        "# create the autoencoder model\n",
        "model = autoencoder_model(X_train)\n",
        "\n",
        "opt = tf.keras.optimizers.Adam(learning_rate=0.0001)\n",
        "\n",
        "model.compile(optimizer=opt, loss='mse', metrics='accuracy')\n",
        "model.summary()"
      ]
    },
    {
      "cell_type": "code",
      "execution_count": null,
      "id": "b73bd30b",
      "metadata": {
        "id": "b73bd30b",
        "outputId": "e6fbefbd-4491-48eb-b470-57318d8a7720"
      },
      "outputs": [
        {
          "name": "stdout",
          "output_type": "stream",
          "text": [
            "Epoch 1/5\n",
            "31483/31483 [==============================] - 179s 12ms/step - loss: 0.0129 - accuracy: 0.7986 - val_loss: 0.0103 - val_accuracy: 0.8939\n",
            "Epoch 2/5\n",
            "31483/31483 [==============================] - 164s 12ms/step - loss: 0.0108 - accuracy: 0.8911 - val_loss: 0.0097 - val_accuracy: 0.9039\n",
            "Epoch 3/5\n",
            "31483/31483 [==============================] - 170s 12ms/step - loss: 0.0107 - accuracy: 0.9020 - val_loss: 0.0100 - val_accuracy: 0.9151\n",
            "Epoch 4/5\n",
            "31483/31483 [==============================] - 175s 12ms/step - loss: 0.0061 - accuracy: 0.9131 - val_loss: 0.0040 - val_accuracy: 0.9358\n",
            "Epoch 5/5\n",
            "31483/31483 [==============================] - 156s 11ms/step - loss: 0.0059 - accuracy: 0.9201 - val_loss: 0.0040 - val_accuracy: 0.9398\n"
          ]
        }
      ],
      "source": [
        "# fit the model to the data\n",
        "history = model.fit(X_train, X_train, epochs=5, batch_size=128, validation_split=0.05).history"
      ]
    },
    {
      "cell_type": "code",
      "execution_count": null,
      "id": "9b942828",
      "metadata": {
        "id": "9b942828",
        "outputId": "56ce374a-d400-419e-bcea-5f78cf06d02c"
      },
      "outputs": [
        {
          "name": "stdout",
          "output_type": "stream",
          "text": [
            "22093/22093 [==============================] - 41s 2ms/step\n",
            "Inference time: 47.66 seconds\n"
          ]
        }
      ],
      "source": [
        "import time\n",
        "\n",
        "# Measure inference time\n",
        "start_time = time.time()\n",
        "pred = model.predict(X_test)\n",
        "end_time = time.time()\n",
        "\n",
        "inference_time = end_time - start_time\n",
        "print(\"Inference time: {:.2f} seconds\".format(inference_time))\n",
        "\n",
        "pred = np.argmax(pred,axis=1)\n",
        "y_test = Y_test.argmax(axis=1)"
      ]
    },
    {
      "cell_type": "code",
      "execution_count": null,
      "id": "a67269a4",
      "metadata": {
        "id": "a67269a4"
      },
      "outputs": [],
      "source": []
    },
    {
      "cell_type": "markdown",
      "id": "ca965ea6",
      "metadata": {
        "id": "ca965ea6"
      },
      "source": [
        "# With default learning rate and mae loss function."
      ]
    },
    {
      "cell_type": "code",
      "execution_count": null,
      "id": "2d7fd2b9",
      "metadata": {
        "id": "2d7fd2b9",
        "outputId": "3c39027a-4466-4301-8d5a-c7bcfd4868a8"
      },
      "outputs": [
        {
          "name": "stdout",
          "output_type": "stream",
          "text": [
            "WARNING:tensorflow:Layer lstm_12 will not use cuDNN kernels since it doesn't meet the criteria. It will use a generic GPU kernel as fallback when running on GPU.\n",
            "WARNING:tensorflow:Layer lstm_13 will not use cuDNN kernels since it doesn't meet the criteria. It will use a generic GPU kernel as fallback when running on GPU.\n",
            "WARNING:tensorflow:Layer lstm_14 will not use cuDNN kernels since it doesn't meet the criteria. It will use a generic GPU kernel as fallback when running on GPU.\n",
            "WARNING:tensorflow:Layer lstm_15 will not use cuDNN kernels since it doesn't meet the criteria. It will use a generic GPU kernel as fallback when running on GPU.\n",
            "Model: \"model_3\"\n",
            "_________________________________________________________________\n",
            " Layer (type)                Output Shape              Param #   \n",
            "=================================================================\n",
            " input_4 (InputLayer)        [(None, 1, 81)]           0         \n",
            "                                                                 \n",
            " lstm_12 (LSTM)              (None, 1, 196)            217952    \n",
            "                                                                 \n",
            " lstm_13 (LSTM)              (None, 125)               161000    \n",
            "                                                                 \n",
            " repeat_vector_3 (RepeatVect  (None, 1, 125)           0         \n",
            " or)                                                             \n",
            "                                                                 \n",
            " lstm_14 (LSTM)              (None, 1, 125)            125500    \n",
            "                                                                 \n",
            " lstm_15 (LSTM)              (None, 1, 196)            252448    \n",
            "                                                                 \n",
            " time_distributed_3 (TimeDis  (None, 1, 81)            15957     \n",
            " tributed)                                                       \n",
            "                                                                 \n",
            "=================================================================\n",
            "Total params: 772,857\n",
            "Trainable params: 772,857\n",
            "Non-trainable params: 0\n",
            "_________________________________________________________________\n"
          ]
        }
      ],
      "source": [
        "# create the autoencoder model\n",
        "model = autoencoder_model(X_train)\n",
        "model.compile(optimizer='adam', loss='mae', metrics='accuracy')\n",
        "model.summary()"
      ]
    },
    {
      "cell_type": "code",
      "execution_count": null,
      "id": "2160d0cd",
      "metadata": {
        "id": "2160d0cd",
        "outputId": "40a7ac9e-9a0d-4f9d-fd71-38f9ed80488c"
      },
      "outputs": [
        {
          "name": "stdout",
          "output_type": "stream",
          "text": [
            "Epoch 1/5\n",
            "31483/31483 [==============================] - 168s 12ms/step - loss: 0.0105 - accuracy: 0.8284 - val_loss: 0.0103 - val_accuracy: 0.9380\n",
            "Epoch 2/5\n",
            "31483/31483 [==============================] - 165s 12ms/step - loss: 0.0096 - accuracy: 0.9445 - val_loss: 0.0084 - val_accuracy: 0.9455\n",
            "Epoch 3/5\n",
            "31483/31483 [==============================] - 170s 12ms/step - loss: 0.0077 - accuracy: 0.9487 - val_loss: 0.0077 - val_accuracy: 0.9511\n",
            "Epoch 4/5\n",
            "31483/31483 [==============================] - 174s 12ms/step - loss: 0.0069 - accuracy: 0.9515 - val_loss: 0.0068 - val_accuracy: 0.9542\n",
            "Epoch 5/5\n",
            "31483/31483 [==============================] - 171s 12ms/step - loss: 0.0065 - accuracy: 0.9541 - val_loss: 0.0058 - val_accuracy: 0.9620\n"
          ]
        }
      ],
      "source": [
        "# fit the model to the data\n",
        "history = model.fit(X_train, X_train, epochs=5, batch_size=128, validation_split=0.05).history"
      ]
    },
    {
      "cell_type": "code",
      "execution_count": null,
      "id": "ded2772f",
      "metadata": {
        "id": "ded2772f",
        "outputId": "697622a0-bcaa-4b38-c360-07a00658a668"
      },
      "outputs": [
        {
          "name": "stdout",
          "output_type": "stream",
          "text": [
            "22093/22093 [==============================] - 46s 2ms/step\n",
            "Inference time: 52.01 seconds\n"
          ]
        }
      ],
      "source": [
        "import time\n",
        "\n",
        "# Measure inference time\n",
        "start_time = time.time()\n",
        "pred = model.predict(X_test)\n",
        "end_time = time.time()\n",
        "\n",
        "inference_time = end_time - start_time\n",
        "print(\"Inference time: {:.2f} seconds\".format(inference_time))\n",
        "\n",
        "pred = np.argmax(pred,axis=1)\n",
        "y_test = Y_test.argmax(axis=1)"
      ]
    },
    {
      "cell_type": "markdown",
      "id": "07816ded",
      "metadata": {
        "id": "07816ded"
      },
      "source": [
        "# With learning rate=0.0001 and mae loss function."
      ]
    },
    {
      "cell_type": "code",
      "execution_count": null,
      "id": "172ee8cc",
      "metadata": {
        "id": "172ee8cc",
        "outputId": "7708176b-1944-4fe8-c833-7a5d0228f8a8"
      },
      "outputs": [
        {
          "name": "stdout",
          "output_type": "stream",
          "text": [
            "WARNING:tensorflow:Layer lstm_16 will not use cuDNN kernels since it doesn't meet the criteria. It will use a generic GPU kernel as fallback when running on GPU.\n",
            "WARNING:tensorflow:Layer lstm_17 will not use cuDNN kernels since it doesn't meet the criteria. It will use a generic GPU kernel as fallback when running on GPU.\n",
            "WARNING:tensorflow:Layer lstm_18 will not use cuDNN kernels since it doesn't meet the criteria. It will use a generic GPU kernel as fallback when running on GPU.\n",
            "WARNING:tensorflow:Layer lstm_19 will not use cuDNN kernels since it doesn't meet the criteria. It will use a generic GPU kernel as fallback when running on GPU.\n",
            "Model: \"model_4\"\n",
            "_________________________________________________________________\n",
            " Layer (type)                Output Shape              Param #   \n",
            "=================================================================\n",
            " input_5 (InputLayer)        [(None, 1, 81)]           0         \n",
            "                                                                 \n",
            " lstm_16 (LSTM)              (None, 1, 196)            217952    \n",
            "                                                                 \n",
            " lstm_17 (LSTM)              (None, 125)               161000    \n",
            "                                                                 \n",
            " repeat_vector_4 (RepeatVect  (None, 1, 125)           0         \n",
            " or)                                                             \n",
            "                                                                 \n",
            " lstm_18 (LSTM)              (None, 1, 125)            125500    \n",
            "                                                                 \n",
            " lstm_19 (LSTM)              (None, 1, 196)            252448    \n",
            "                                                                 \n",
            " time_distributed_4 (TimeDis  (None, 1, 81)            15957     \n",
            " tributed)                                                       \n",
            "                                                                 \n",
            "=================================================================\n",
            "Total params: 772,857\n",
            "Trainable params: 772,857\n",
            "Non-trainable params: 0\n",
            "_________________________________________________________________\n"
          ]
        }
      ],
      "source": [
        "# create the autoencoder model\n",
        "model = autoencoder_model(X_train)\n",
        "\n",
        "opt = tf.keras.optimizers.Adam(learning_rate=0.0001)\n",
        "\n",
        "model.compile(optimizer=opt, loss='mae', metrics='accuracy')\n",
        "model.summary()"
      ]
    },
    {
      "cell_type": "code",
      "execution_count": null,
      "id": "714132c2",
      "metadata": {
        "id": "714132c2",
        "outputId": "c0195217-6bfa-41ae-ea78-b36110b3e739"
      },
      "outputs": [
        {
          "name": "stdout",
          "output_type": "stream",
          "text": [
            "Epoch 1/5\n",
            "31483/31483 [==============================] - 186s 12ms/step - loss: 0.0094 - accuracy: 0.7934 - val_loss: 0.0064 - val_accuracy: 0.8873\n",
            "Epoch 2/5\n",
            "31483/31483 [==============================] - 164s 12ms/step - loss: 0.0063 - accuracy: 0.8449 - val_loss: 0.0062 - val_accuracy: 0.8886\n",
            "Epoch 3/5\n",
            "31483/31483 [==============================] - 182s 12ms/step - loss: 0.0078 - accuracy: 0.8898 - val_loss: 0.0062 - val_accuracy: 0.9044\n",
            "Epoch 4/5\n",
            "31483/31483 [==============================] - 174s 12ms/step - loss: 0.0052 - accuracy: 0.8983 - val_loss: 0.0041 - val_accuracy: 0.9244\n",
            "Epoch 5/5\n",
            "31483/31483 [==============================] - 183s 12ms/step - loss: 0.0040 - accuracy: 0.9162 - val_loss: 0.0042 - val_accuracy: 0.9387\n"
          ]
        }
      ],
      "source": [
        "# fit the model to the data\n",
        "history = model.fit(X_train, X_train, epochs=5, batch_size=128, validation_split=0.05).history"
      ]
    },
    {
      "cell_type": "code",
      "execution_count": null,
      "id": "854c410a",
      "metadata": {
        "id": "854c410a",
        "outputId": "a26be6f6-76c3-4ba3-daae-8557c499a076"
      },
      "outputs": [
        {
          "name": "stdout",
          "output_type": "stream",
          "text": [
            "22093/22093 [==============================] - 42s 2ms/step\n",
            "Inference time: 47.74 seconds\n"
          ]
        }
      ],
      "source": [
        "import time\n",
        "\n",
        "# Measure inference time\n",
        "start_time = time.time()\n",
        "pred = model.predict(X_test)\n",
        "end_time = time.time()\n",
        "\n",
        "inference_time = end_time - start_time\n",
        "print(\"Inference time: {:.2f} seconds\".format(inference_time))\n",
        "\n",
        "pred = np.argmax(pred,axis=1)\n",
        "y_test = Y_test.argmax(axis=1)"
      ]
    },
    {
      "cell_type": "code",
      "execution_count": null,
      "id": "e6fee6ce",
      "metadata": {
        "id": "e6fee6ce"
      },
      "outputs": [],
      "source": []
    },
    {
      "cell_type": "markdown",
      "id": "f445cdae",
      "metadata": {
        "id": "f445cdae"
      },
      "source": [
        "# With default learning rate and mae loss function, to 30 epochs."
      ]
    },
    {
      "cell_type": "code",
      "execution_count": null,
      "id": "f07940e9",
      "metadata": {
        "id": "f07940e9",
        "outputId": "67e9afe0-a158-428f-fe9d-3e85b08c0202"
      },
      "outputs": [
        {
          "name": "stdout",
          "output_type": "stream",
          "text": [
            "WARNING:tensorflow:Layer lstm_20 will not use cuDNN kernels since it doesn't meet the criteria. It will use a generic GPU kernel as fallback when running on GPU.\n",
            "WARNING:tensorflow:Layer lstm_21 will not use cuDNN kernels since it doesn't meet the criteria. It will use a generic GPU kernel as fallback when running on GPU.\n",
            "WARNING:tensorflow:Layer lstm_22 will not use cuDNN kernels since it doesn't meet the criteria. It will use a generic GPU kernel as fallback when running on GPU.\n",
            "WARNING:tensorflow:Layer lstm_23 will not use cuDNN kernels since it doesn't meet the criteria. It will use a generic GPU kernel as fallback when running on GPU.\n",
            "Model: \"model_5\"\n",
            "_________________________________________________________________\n",
            " Layer (type)                Output Shape              Param #   \n",
            "=================================================================\n",
            " input_6 (InputLayer)        [(None, 1, 81)]           0         \n",
            "                                                                 \n",
            " lstm_20 (LSTM)              (None, 1, 196)            217952    \n",
            "                                                                 \n",
            " lstm_21 (LSTM)              (None, 125)               161000    \n",
            "                                                                 \n",
            " repeat_vector_5 (RepeatVect  (None, 1, 125)           0         \n",
            " or)                                                             \n",
            "                                                                 \n",
            " lstm_22 (LSTM)              (None, 1, 125)            125500    \n",
            "                                                                 \n",
            " lstm_23 (LSTM)              (None, 1, 196)            252448    \n",
            "                                                                 \n",
            " time_distributed_5 (TimeDis  (None, 1, 81)            15957     \n",
            " tributed)                                                       \n",
            "                                                                 \n",
            "=================================================================\n",
            "Total params: 772,857\n",
            "Trainable params: 772,857\n",
            "Non-trainable params: 0\n",
            "_________________________________________________________________\n"
          ]
        }
      ],
      "source": [
        "# create the autoencoder model\n",
        "model = autoencoder_model(X_train)\n",
        "\n",
        "model.compile(optimizer='adam', loss='mae', metrics='accuracy')\n",
        "model.summary()"
      ]
    },
    {
      "cell_type": "code",
      "execution_count": null,
      "id": "752928e0",
      "metadata": {
        "id": "752928e0",
        "outputId": "46d5aea9-d697-400c-885c-726405b57042"
      },
      "outputs": [
        {
          "name": "stdout",
          "output_type": "stream",
          "text": [
            "Epoch 1/30\n",
            "15742/15742 [==============================] - 181s 11ms/step - loss: 0.0101 - accuracy: 0.9465 - val_loss: 0.0076 - val_accuracy: 0.9848\n",
            "Epoch 2/30\n",
            "15742/15742 [==============================] - 189s 12ms/step - loss: 0.0094 - accuracy: 0.9632 - val_loss: 0.0068 - val_accuracy: 0.9871\n",
            "Epoch 3/30\n",
            "15742/15742 [==============================] - 190s 12ms/step - loss: 0.0082 - accuracy: 0.9798 - val_loss: 0.0067 - val_accuracy: 0.9888\n",
            "Epoch 4/30\n",
            "15742/15742 [==============================] - 191s 12ms/step - loss: 0.0070 - accuracy: 0.9829 - val_loss: 0.0062 - val_accuracy: 0.9921\n",
            "Epoch 5/30\n",
            "15742/15742 [==============================] - 186s 12ms/step - loss: 0.0064 - accuracy: 0.9847 - val_loss: 0.0058 - val_accuracy: 0.9924\n",
            "Epoch 6/30\n",
            "15742/15742 [==============================] - 176s 11ms/step - loss: 0.0059 - accuracy: 0.9862 - val_loss: 0.0053 - val_accuracy: 0.9925\n",
            "Epoch 7/30\n",
            "15742/15742 [==============================] - 177s 11ms/step - loss: 0.0058 - accuracy: 0.9882 - val_loss: 0.0054 - val_accuracy: 0.9935\n",
            "Epoch 8/30\n",
            "15742/15742 [==============================] - 188s 12ms/step - loss: 0.0053 - accuracy: 0.9886 - val_loss: 0.0047 - val_accuracy: 0.9934\n",
            "Epoch 9/30\n",
            "15742/15742 [==============================] - 191s 12ms/step - loss: 0.0051 - accuracy: 0.9890 - val_loss: 0.0046 - val_accuracy: 0.9948\n",
            "Epoch 10/30\n",
            "15742/15742 [==============================] - 191s 12ms/step - loss: 0.0051 - accuracy: 0.9910 - val_loss: 0.0038 - val_accuracy: 0.9947\n",
            "Epoch 11/30\n",
            "15742/15742 [==============================] - 188s 12ms/step - loss: 0.0050 - accuracy: 0.9924 - val_loss: 0.0031 - val_accuracy: 0.9956\n",
            "Epoch 12/30\n",
            "15742/15742 [==============================] - 193s 12ms/step - loss: 0.0048 - accuracy: 0.9930 - val_loss: 0.0030 - val_accuracy: 0.9959\n",
            "Epoch 13/30\n",
            "15742/15742 [==============================] - 192s 12ms/step - loss: 0.0045 - accuracy: 0.9935 - val_loss: 0.0027 - val_accuracy: 0.9960\n",
            "Epoch 14/30\n",
            "15742/15742 [==============================] - 187s 12ms/step - loss: 0.0044 - accuracy: 0.9945 - val_loss: 0.0027 - val_accuracy: 0.9963\n",
            "Epoch 15/30\n",
            "15742/15742 [==============================] - 199s 13ms/step - loss: 0.0042 - accuracy: 0.9944 - val_loss: 0.0025 - val_accuracy: 0.9963\n",
            "Epoch 16/30\n",
            "15742/15742 [==============================] - 191s 12ms/step - loss: 0.0047 - accuracy: 0.9945 - val_loss: 0.0022 - val_accuracy: 0.9965\n",
            "Epoch 17/30\n",
            "15742/15742 [==============================] - 182s 12ms/step - loss: 0.0046 - accuracy: 0.9954 - val_loss: 0.0022 - val_accuracy: 0.9965\n",
            "Epoch 18/30\n",
            "15742/15742 [==============================] - 177s 11ms/step - loss: 0.0044 - accuracy: 0.9957 - val_loss: 0.0023 - val_accuracy: 0.9968\n",
            "Epoch 19/30\n",
            "15742/15742 [==============================] - 193s 12ms/step - loss: 0.0046 - accuracy: 0.9958 - val_loss: 0.0021 - val_accuracy: 0.9970\n",
            "Epoch 20/30\n",
            "15742/15742 [==============================] - 192s 12ms/step - loss: 0.0045 - accuracy: 0.9957 - val_loss: 0.0020 - val_accuracy: 0.9974\n",
            "Epoch 21/30\n",
            "15742/15742 [==============================] - 202s 13ms/step - loss: 0.0044 - accuracy: 0.9965 - val_loss: 0.0019 - val_accuracy: 0.9973\n",
            "Epoch 22/30\n",
            "15742/15742 [==============================] - 193s 12ms/step - loss: 0.0040 - accuracy: 0.9969 - val_loss: 0.0015 - val_accuracy: 0.9973\n",
            "Epoch 23/30\n",
            "15742/15742 [==============================] - 187s 12ms/step - loss: 0.0044 - accuracy: 0.9970 - val_loss: 0.0014 - val_accuracy: 0.9979\n",
            "Epoch 24/30\n",
            "15742/15742 [==============================] - 187s 12ms/step - loss: 0.0042 - accuracy: 0.9975 - val_loss: 0.0011 - val_accuracy: 0.9980\n",
            "Epoch 25/30\n",
            "15742/15742 [==============================] - 194s 12ms/step - loss: 0.0045 - accuracy: 0.9976 - val_loss: 0.0011 - val_accuracy: 0.9982\n",
            "Epoch 26/30\n",
            "15742/15742 [==============================] - 189s 12ms/step - loss: 0.0039 - accuracy: 0.9978 - val_loss: 0.0010 - val_accuracy: 0.9984\n",
            "Epoch 27/30\n",
            "15742/15742 [==============================] - 192s 12ms/step - loss: 0.0040 - accuracy: 0.9978 - val_loss: 0.0008 - val_accuracy: 0.9988\n",
            "Epoch 28/30\n",
            "15742/15742 [==============================] - 200s 13ms/step - loss: 0.0041 - accuracy: 0.9980 - val_loss: 0.0007 - val_accuracy: 0.9997\n",
            "Epoch 29/30\n",
            "15742/15742 [==============================] - 193s 12ms/step - loss: 0.0042 - accuracy: 0.9984 - val_loss: 0.0005 - val_accuracy: 0.9999\n",
            "Epoch 30/30\n",
            "15742/15742 [==============================] - 190s 12ms/step - loss: 0.0041 - accuracy: 0.9987 - val_loss: 0.0005 - val_accuracy: 0.9999\n"
          ]
        }
      ],
      "source": [
        "# fit the model to the data\n",
        "history = model.fit(X_train, X_train, epochs=30, batch_size=128, validation_split=0.05).history"
      ]
    },
    {
      "cell_type": "code",
      "execution_count": null,
      "id": "c6bd3f89",
      "metadata": {
        "id": "c6bd3f89",
        "outputId": "2488c6b4-e889-4fc4-96b6-c6c14257595e"
      },
      "outputs": [
        {
          "name": "stdout",
          "output_type": "stream",
          "text": [
            "22093/22093 [==============================] - 48s 2ms/step\n",
            "Inference time: 53.66 seconds\n"
          ]
        }
      ],
      "source": [
        "import time\n",
        "\n",
        "# Measure inference time\n",
        "start_time = time.time()\n",
        "pred = model.predict(X_test)\n",
        "end_time = time.time()\n",
        "\n",
        "inference_time = end_time - start_time\n",
        "print(\"Inference time: {:.2f} seconds\".format(inference_time))\n",
        "\n",
        "pred = np.argmax(pred,axis=1)\n",
        "y_test = Y_test.argmax(axis=1)"
      ]
    },
    {
      "cell_type": "code",
      "execution_count": null,
      "id": "9042b2f6",
      "metadata": {
        "id": "9042b2f6",
        "outputId": "051f168f-5086-4fda-a650-3b5d3c0ee85a"
      },
      "outputs": [
        {
          "name": "stdout",
          "output_type": "stream",
          "text": [
            "22093/22093 [==============================] - 48s 2ms/step\n",
            "5524/5524 [==============================] - 14s 3ms/step - loss: 0.0005 - accuracy: 0.9999\n",
            "Completed\n",
            "Time taken: 0:01:09.123427\n"
          ]
        }
      ],
      "source": [
        "import datetime as dt\n",
        "from sklearn.metrics import accuracy_score, confusion_matrix, precision_score, recall_score, f1_score, roc_auc_score, auc\n",
        "from sklearn import preprocessing\n",
        "from sklearn.metrics import mean_squared_error, mean_absolute_error, r2_score\n",
        "\n",
        "\n",
        "start = dt.datetime.now()\n",
        "\n",
        "y_pred = model.predict(X_test)\n",
        "escore = model.evaluate(X_test, X_test, batch_size=128)\n",
        "\n",
        "# evaluate classification metrics (for multiclass targets)\n",
        "#accuracy = accuracy_score(Y_test.argmax(axis=1), y_pred.argmax(axis=1))\n",
        "#precision = precision_score(Y_test.argmax(axis=1), y_pred.argmax(axis=1), average='weighted')\n",
        "#recall = recall_score(Y_test.argmax(axis=1), y_pred.argmax(axis=1), average='weighted')\n",
        "#f1 = f1_score(Y_test.argmax(axis=1), y_pred.argmax(axis=1), average='weighted')\n",
        "#confusion = confusion_matrix(Y_test.argmax(axis=1), y_pred.argmax(axis=1))\n",
        "\n",
        "\n",
        "\n",
        "# print the results\n",
        "#print(\"Accuracy: {:.3f}\".format(accuracy))\n",
        "#print(\"Precision: {:.3f}\".format(precision))\n",
        "#print(\"Recall: {:.3f}\".format(recall))\n",
        "#print(\"F1-score: {:.3f}\".format(f1))\n",
        "#print(\"Confusion Matrix:\\n\", confusion)\n",
        "\n",
        "print('Completed')\n",
        "print('Time taken:',dt.datetime.now()-start)"
      ]
    },
    {
      "cell_type": "code",
      "execution_count": null,
      "id": "8051d8be",
      "metadata": {
        "id": "8051d8be"
      },
      "outputs": [],
      "source": []
    }
  ],
  "metadata": {
    "kernelspec": {
      "display_name": "Python 3",
      "name": "python3"
    },
    "language_info": {
      "codemirror_mode": {
        "name": "ipython",
        "version": 3
      },
      "file_extension": ".py",
      "mimetype": "text/x-python",
      "name": "python",
      "nbconvert_exporter": "python",
      "pygments_lexer": "ipython3",
      "version": "3.9.12"
    },
    "colab": {
      "provenance": []
    }
  },
  "nbformat": 4,
  "nbformat_minor": 5
}